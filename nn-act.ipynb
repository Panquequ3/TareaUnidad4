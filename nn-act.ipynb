{
 "cells": [
  {
   "cell_type": "code",
   "execution_count": 1,
   "id": "663825c0",
   "metadata": {},
   "outputs": [],
   "source": [
    "import torch \n",
    "import pandas as pd\n",
    "from torch.utils.data import random_split,DataLoader,TensorDataset\n",
    "import seaborn as sns\n",
    "import random\n",
    "import torch.nn as nn\n",
    "import torch.optim as optim # contiene algoritmos de optimización como SGD o Adam\n",
    "import matplotlib.pyplot as plt\n",
    "from sklearn.datasets import make_classification\n",
    "from sklearn.model_selection import train_test_split\n",
    "from sklearn.preprocessing import StandardScaler\n",
    "from sklearn.ensemble import RandomForestClassifier\n",
    "from sklearn.metrics import accuracy_score, confusion_matrix, precision_score, recall_score\n",
    "\n",
    "\n",
    "# Semilla general\n",
    "# torch.manual_seed(42)\n",
    "# random.seed(42)"
   ]
  },
  {
   "cell_type": "markdown",
   "id": "4666147f",
   "metadata": {},
   "source": [
    "## Problema 1"
   ]
  },
  {
   "cell_type": "code",
   "execution_count": 2,
   "id": "1b638923",
   "metadata": {},
   "outputs": [
    {
     "data": {
      "text/html": [
       "<div>\n",
       "<style scoped>\n",
       "    .dataframe tbody tr th:only-of-type {\n",
       "        vertical-align: middle;\n",
       "    }\n",
       "\n",
       "    .dataframe tbody tr th {\n",
       "        vertical-align: top;\n",
       "    }\n",
       "\n",
       "    .dataframe thead th {\n",
       "        text-align: right;\n",
       "    }\n",
       "</style>\n",
       "<table border=\"1\" class=\"dataframe\">\n",
       "  <thead>\n",
       "    <tr style=\"text-align: right;\">\n",
       "      <th></th>\n",
       "      <th>Name</th>\n",
       "      <th>Type 1</th>\n",
       "      <th>Type 2</th>\n",
       "      <th>Total</th>\n",
       "      <th>HP</th>\n",
       "      <th>Attack</th>\n",
       "      <th>Defense</th>\n",
       "      <th>Sp. Atk</th>\n",
       "      <th>Sp. Def</th>\n",
       "      <th>Speed</th>\n",
       "      <th>Generation</th>\n",
       "      <th>Legendary</th>\n",
       "    </tr>\n",
       "  </thead>\n",
       "  <tbody>\n",
       "    <tr>\n",
       "      <th>0</th>\n",
       "      <td>Bulbasaur</td>\n",
       "      <td>Grass</td>\n",
       "      <td>Poison</td>\n",
       "      <td>318</td>\n",
       "      <td>45</td>\n",
       "      <td>49</td>\n",
       "      <td>49</td>\n",
       "      <td>65</td>\n",
       "      <td>65</td>\n",
       "      <td>45</td>\n",
       "      <td>1</td>\n",
       "      <td>False</td>\n",
       "    </tr>\n",
       "    <tr>\n",
       "      <th>1</th>\n",
       "      <td>Ivysaur</td>\n",
       "      <td>Grass</td>\n",
       "      <td>Poison</td>\n",
       "      <td>405</td>\n",
       "      <td>60</td>\n",
       "      <td>62</td>\n",
       "      <td>63</td>\n",
       "      <td>80</td>\n",
       "      <td>80</td>\n",
       "      <td>60</td>\n",
       "      <td>1</td>\n",
       "      <td>False</td>\n",
       "    </tr>\n",
       "    <tr>\n",
       "      <th>2</th>\n",
       "      <td>Venusaur</td>\n",
       "      <td>Grass</td>\n",
       "      <td>Poison</td>\n",
       "      <td>525</td>\n",
       "      <td>80</td>\n",
       "      <td>82</td>\n",
       "      <td>83</td>\n",
       "      <td>100</td>\n",
       "      <td>100</td>\n",
       "      <td>80</td>\n",
       "      <td>1</td>\n",
       "      <td>False</td>\n",
       "    </tr>\n",
       "    <tr>\n",
       "      <th>3</th>\n",
       "      <td>VenusaurMega Venusaur</td>\n",
       "      <td>Grass</td>\n",
       "      <td>Poison</td>\n",
       "      <td>625</td>\n",
       "      <td>80</td>\n",
       "      <td>100</td>\n",
       "      <td>123</td>\n",
       "      <td>122</td>\n",
       "      <td>120</td>\n",
       "      <td>80</td>\n",
       "      <td>1</td>\n",
       "      <td>False</td>\n",
       "    </tr>\n",
       "    <tr>\n",
       "      <th>4</th>\n",
       "      <td>Charmander</td>\n",
       "      <td>Fire</td>\n",
       "      <td>NaN</td>\n",
       "      <td>309</td>\n",
       "      <td>39</td>\n",
       "      <td>52</td>\n",
       "      <td>43</td>\n",
       "      <td>60</td>\n",
       "      <td>50</td>\n",
       "      <td>65</td>\n",
       "      <td>1</td>\n",
       "      <td>False</td>\n",
       "    </tr>\n",
       "    <tr>\n",
       "      <th>...</th>\n",
       "      <td>...</td>\n",
       "      <td>...</td>\n",
       "      <td>...</td>\n",
       "      <td>...</td>\n",
       "      <td>...</td>\n",
       "      <td>...</td>\n",
       "      <td>...</td>\n",
       "      <td>...</td>\n",
       "      <td>...</td>\n",
       "      <td>...</td>\n",
       "      <td>...</td>\n",
       "      <td>...</td>\n",
       "    </tr>\n",
       "    <tr>\n",
       "      <th>795</th>\n",
       "      <td>Diancie</td>\n",
       "      <td>Rock</td>\n",
       "      <td>Fairy</td>\n",
       "      <td>600</td>\n",
       "      <td>50</td>\n",
       "      <td>100</td>\n",
       "      <td>150</td>\n",
       "      <td>100</td>\n",
       "      <td>150</td>\n",
       "      <td>50</td>\n",
       "      <td>6</td>\n",
       "      <td>True</td>\n",
       "    </tr>\n",
       "    <tr>\n",
       "      <th>796</th>\n",
       "      <td>DiancieMega Diancie</td>\n",
       "      <td>Rock</td>\n",
       "      <td>Fairy</td>\n",
       "      <td>700</td>\n",
       "      <td>50</td>\n",
       "      <td>160</td>\n",
       "      <td>110</td>\n",
       "      <td>160</td>\n",
       "      <td>110</td>\n",
       "      <td>110</td>\n",
       "      <td>6</td>\n",
       "      <td>True</td>\n",
       "    </tr>\n",
       "    <tr>\n",
       "      <th>797</th>\n",
       "      <td>HoopaHoopa Confined</td>\n",
       "      <td>Psychic</td>\n",
       "      <td>Ghost</td>\n",
       "      <td>600</td>\n",
       "      <td>80</td>\n",
       "      <td>110</td>\n",
       "      <td>60</td>\n",
       "      <td>150</td>\n",
       "      <td>130</td>\n",
       "      <td>70</td>\n",
       "      <td>6</td>\n",
       "      <td>True</td>\n",
       "    </tr>\n",
       "    <tr>\n",
       "      <th>798</th>\n",
       "      <td>HoopaHoopa Unbound</td>\n",
       "      <td>Psychic</td>\n",
       "      <td>Dark</td>\n",
       "      <td>680</td>\n",
       "      <td>80</td>\n",
       "      <td>160</td>\n",
       "      <td>60</td>\n",
       "      <td>170</td>\n",
       "      <td>130</td>\n",
       "      <td>80</td>\n",
       "      <td>6</td>\n",
       "      <td>True</td>\n",
       "    </tr>\n",
       "    <tr>\n",
       "      <th>799</th>\n",
       "      <td>Volcanion</td>\n",
       "      <td>Fire</td>\n",
       "      <td>Water</td>\n",
       "      <td>600</td>\n",
       "      <td>80</td>\n",
       "      <td>110</td>\n",
       "      <td>120</td>\n",
       "      <td>130</td>\n",
       "      <td>90</td>\n",
       "      <td>70</td>\n",
       "      <td>6</td>\n",
       "      <td>True</td>\n",
       "    </tr>\n",
       "  </tbody>\n",
       "</table>\n",
       "<p>800 rows × 12 columns</p>\n",
       "</div>"
      ],
      "text/plain": [
       "                      Name   Type 1  Type 2  Total  HP  Attack  Defense  \\\n",
       "0                Bulbasaur    Grass  Poison    318  45      49       49   \n",
       "1                  Ivysaur    Grass  Poison    405  60      62       63   \n",
       "2                 Venusaur    Grass  Poison    525  80      82       83   \n",
       "3    VenusaurMega Venusaur    Grass  Poison    625  80     100      123   \n",
       "4               Charmander     Fire     NaN    309  39      52       43   \n",
       "..                     ...      ...     ...    ...  ..     ...      ...   \n",
       "795                Diancie     Rock   Fairy    600  50     100      150   \n",
       "796    DiancieMega Diancie     Rock   Fairy    700  50     160      110   \n",
       "797    HoopaHoopa Confined  Psychic   Ghost    600  80     110       60   \n",
       "798     HoopaHoopa Unbound  Psychic    Dark    680  80     160       60   \n",
       "799              Volcanion     Fire   Water    600  80     110      120   \n",
       "\n",
       "     Sp. Atk  Sp. Def  Speed  Generation  Legendary  \n",
       "0         65       65     45           1      False  \n",
       "1         80       80     60           1      False  \n",
       "2        100      100     80           1      False  \n",
       "3        122      120     80           1      False  \n",
       "4         60       50     65           1      False  \n",
       "..       ...      ...    ...         ...        ...  \n",
       "795      100      150     50           6       True  \n",
       "796      160      110    110           6       True  \n",
       "797      150      130     70           6       True  \n",
       "798      170      130     80           6       True  \n",
       "799      130       90     70           6       True  \n",
       "\n",
       "[800 rows x 12 columns]"
      ]
     },
     "execution_count": 2,
     "metadata": {},
     "output_type": "execute_result"
    }
   ],
   "source": [
    "dataset = pd.read_csv(\"dataset.csv\")\n",
    "dataset.drop(\"#\",axis=1,inplace=True)\n",
    "dataset"
   ]
  },
  {
   "cell_type": "markdown",
   "id": "1b53a90d",
   "metadata": {},
   "source": [
    "### Descripción del dataset  \n",
    "En el siguiente bloque describa el dataset a utilizar. También es necesario hacer un análisis exploratorio de los datos.\n",
    "Responda como mínimo las siguientes preguntas:\n",
    "- ¿De qué trata el dataset?\n",
    "- ¿Cuáles son las clases de salida?\n",
    "- ¿Está preparado para poder ser introducido a una red neuronal?\n",
    "- ¿Cuantas carácteristicas tiene?\n",
    "- Etc.\n"
   ]
  },
  {
   "cell_type": "markdown",
   "id": "3b489315",
   "metadata": {},
   "source": [
    "#### Dataset: Pokemon\n",
    "Los datos que estamos viendo en este dataset son las distintas estadisticas que poseen los pokemon de 1era a 6ta generacion, mostrando su nombre y sus tipos correspondientes, ademas de especificar si este pokemon es legendario o no\n",
    "\n",
    "Las caracteristicas que posee el dataset tiene los siguientes valores:\n",
    "* **Name:** Nombre del Pokemon en cuestion\n",
    "* **Type 1:** Primer tipo del pokemon, que siempre contiene un valor (Fire, Fairy, Steel, Water, Grass, Dragon, Ice, Poison, Bug, Normal, Flying, Fighting, Ghost, Psychic, Dark, Ground, Rock y Electric)\n",
    "* **Type 2:** Tipo secundario del pokemon, que puede no tener.\n",
    "* **HP:** (Health Points) Cantidad de vida que el pokemon posee\n",
    "* **Attack:** Valor base que tienen los pokemon para el ataque fisico\n",
    "* **Defense:** Valor base de defensa que tienen los pokemon para resistir ataques fisicos\n",
    "* **Sp. Atk:** Valor base de ataque especial que tienen los pokemon para inflingir daño especial\n",
    "* **Sp. Def:** Valor base de defensa especial que tienen los pokemon para resistir ataques especiales\n",
    "* **Speed:** Valor base de un pokemon para definir cual de los pokemones se mueve primero en batalla\n",
    "* **Total:** Suma total de todas las estadisticas de un pokemon, donde normalmente los que son sobre 600 son legendarios\n",
    "* **Generation:** Generacion a la cual pertenece el pokemon, refiriendonos a los juegos que salieron el mismo año (Ej: Rojo, Azul y Amarillo salieron el mismo año y se consideran 1era generacion)\n",
    "* **Legendary:** Valor que define si el pokemon en cuestion es legendario o no (True: Legendario / False: No legendario)\n",
    "\n",
    "Dependiendo de cual sea el estudio, el valor de salida pueden ser distintas, como por ejemplo, los tipos de el pokemon con el que normalmente se le puede asociar una estadistica, como por ejemplo el tipo acero tiene principalmente tipo acero, asi mismo, si veo un pokemon con una stat mayor en la defensa, lo mas probable es que sea acero, o viendo las estadisticas totales, puedo analizar si el pokemon en cuestion es o no legendario\n",
    "\n",
    "El Dataset de por si no posee un valor que tenga 0 en alguna parte, ya que no puede existir una estadistica en 0, tampoco los nombres pueden ser vacio, el unico valor que puede llegar a existir que sea un valor no leible seria el NaN en el segundo tipo, que esto implica que el pokemon solo tiene un tipo."
   ]
  },
  {
   "cell_type": "code",
   "execution_count": 3,
   "id": "ce57c9b7",
   "metadata": {},
   "outputs": [
    {
     "name": "stdout",
     "output_type": "stream",
     "text": [
      "Total         0\n",
      "HP            0\n",
      "Attack        0\n",
      "Defense       0\n",
      "Sp. Atk       0\n",
      "Sp. Def       0\n",
      "Speed         0\n",
      "Generation    0\n",
      "Legendary     0\n",
      "dtype: int64\n",
      "Total           0\n",
      "HP              0\n",
      "Attack          0\n",
      "Defense         0\n",
      "Sp. Atk         0\n",
      "Sp. Def         0\n",
      "Speed           0\n",
      "Generation      0\n",
      "Legendary     734\n",
      "dtype: int64\n"
     ]
    }
   ],
   "source": [
    "# Verificar valores nulos en otras columnas\n",
    "columnas = [\"Total\", \"HP\", \"Attack\", \"Defense\", \"Sp. Atk\", \"Sp. Def\", \"Speed\", \"Generation\", \"Legendary\"]\n",
    "valores_nulos = dataset[columnas].isnull().sum()\n",
    "\n",
    "# Mostrar los resultados\n",
    "print(valores_nulos)\n",
    "\n",
    "valores_cero = dataset[columnas].eq(0).sum()\n",
    "\n",
    "# Mostrar los resultados\n",
    "print(valores_cero)\n",
    "# En legendary es normal ya que es verdadero o falso, no un valor numerico"
   ]
  },
  {
   "cell_type": "markdown",
   "id": "60a6e7e3-8ab6-46b1-860b-75570bdca296",
   "metadata": {},
   "source": [
    "#### Analisis exploratorio"
   ]
  },
  {
   "cell_type": "code",
   "execution_count": 3,
   "id": "7e17a815-c77f-4104-943b-706f036c7655",
   "metadata": {},
   "outputs": [],
   "source": [
    "# ABRIMOS Y ALMACENAMOS EL DATASET SOLO PARA ANÁLISIS \n",
    "df = pd.read_csv(\"dataset.csv\") \n",
    "df.drop(\"#\",axis=1,inplace=True)\n",
    "df.drop(\"Name\",axis=1,inplace=True)\n",
    "df.drop(\"Type 1\",axis=1,inplace=True)\n",
    "df.drop(\"Type 2\",axis=1,inplace=True)"
   ]
  },
  {
   "cell_type": "code",
   "execution_count": 5,
   "id": "f1acb021-9dc2-4399-a4ae-c1e1cb364d3e",
   "metadata": {},
   "outputs": [
    {
     "data": {
      "text/html": [
       "<div>\n",
       "<style scoped>\n",
       "    .dataframe tbody tr th:only-of-type {\n",
       "        vertical-align: middle;\n",
       "    }\n",
       "\n",
       "    .dataframe tbody tr th {\n",
       "        vertical-align: top;\n",
       "    }\n",
       "\n",
       "    .dataframe thead th {\n",
       "        text-align: right;\n",
       "    }\n",
       "</style>\n",
       "<table border=\"1\" class=\"dataframe\">\n",
       "  <thead>\n",
       "    <tr style=\"text-align: right;\">\n",
       "      <th></th>\n",
       "      <th>Total</th>\n",
       "      <th>HP</th>\n",
       "      <th>Attack</th>\n",
       "      <th>Defense</th>\n",
       "      <th>Sp. Atk</th>\n",
       "      <th>Sp. Def</th>\n",
       "      <th>Speed</th>\n",
       "      <th>Generation</th>\n",
       "    </tr>\n",
       "  </thead>\n",
       "  <tbody>\n",
       "    <tr>\n",
       "      <th>count</th>\n",
       "      <td>800.00000</td>\n",
       "      <td>800.000000</td>\n",
       "      <td>800.000000</td>\n",
       "      <td>800.000000</td>\n",
       "      <td>800.000000</td>\n",
       "      <td>800.000000</td>\n",
       "      <td>800.000000</td>\n",
       "      <td>800.00000</td>\n",
       "    </tr>\n",
       "    <tr>\n",
       "      <th>mean</th>\n",
       "      <td>435.10250</td>\n",
       "      <td>69.258750</td>\n",
       "      <td>79.001250</td>\n",
       "      <td>73.842500</td>\n",
       "      <td>72.820000</td>\n",
       "      <td>71.902500</td>\n",
       "      <td>68.277500</td>\n",
       "      <td>3.32375</td>\n",
       "    </tr>\n",
       "    <tr>\n",
       "      <th>std</th>\n",
       "      <td>119.96304</td>\n",
       "      <td>25.534669</td>\n",
       "      <td>32.457366</td>\n",
       "      <td>31.183501</td>\n",
       "      <td>32.722294</td>\n",
       "      <td>27.828916</td>\n",
       "      <td>29.060474</td>\n",
       "      <td>1.66129</td>\n",
       "    </tr>\n",
       "    <tr>\n",
       "      <th>min</th>\n",
       "      <td>180.00000</td>\n",
       "      <td>1.000000</td>\n",
       "      <td>5.000000</td>\n",
       "      <td>5.000000</td>\n",
       "      <td>10.000000</td>\n",
       "      <td>20.000000</td>\n",
       "      <td>5.000000</td>\n",
       "      <td>1.00000</td>\n",
       "    </tr>\n",
       "    <tr>\n",
       "      <th>25%</th>\n",
       "      <td>330.00000</td>\n",
       "      <td>50.000000</td>\n",
       "      <td>55.000000</td>\n",
       "      <td>50.000000</td>\n",
       "      <td>49.750000</td>\n",
       "      <td>50.000000</td>\n",
       "      <td>45.000000</td>\n",
       "      <td>2.00000</td>\n",
       "    </tr>\n",
       "    <tr>\n",
       "      <th>50%</th>\n",
       "      <td>450.00000</td>\n",
       "      <td>65.000000</td>\n",
       "      <td>75.000000</td>\n",
       "      <td>70.000000</td>\n",
       "      <td>65.000000</td>\n",
       "      <td>70.000000</td>\n",
       "      <td>65.000000</td>\n",
       "      <td>3.00000</td>\n",
       "    </tr>\n",
       "    <tr>\n",
       "      <th>75%</th>\n",
       "      <td>515.00000</td>\n",
       "      <td>80.000000</td>\n",
       "      <td>100.000000</td>\n",
       "      <td>90.000000</td>\n",
       "      <td>95.000000</td>\n",
       "      <td>90.000000</td>\n",
       "      <td>90.000000</td>\n",
       "      <td>5.00000</td>\n",
       "    </tr>\n",
       "    <tr>\n",
       "      <th>max</th>\n",
       "      <td>780.00000</td>\n",
       "      <td>255.000000</td>\n",
       "      <td>190.000000</td>\n",
       "      <td>230.000000</td>\n",
       "      <td>194.000000</td>\n",
       "      <td>230.000000</td>\n",
       "      <td>180.000000</td>\n",
       "      <td>6.00000</td>\n",
       "    </tr>\n",
       "  </tbody>\n",
       "</table>\n",
       "</div>"
      ],
      "text/plain": [
       "           Total          HP      Attack     Defense     Sp. Atk     Sp. Def  \\\n",
       "count  800.00000  800.000000  800.000000  800.000000  800.000000  800.000000   \n",
       "mean   435.10250   69.258750   79.001250   73.842500   72.820000   71.902500   \n",
       "std    119.96304   25.534669   32.457366   31.183501   32.722294   27.828916   \n",
       "min    180.00000    1.000000    5.000000    5.000000   10.000000   20.000000   \n",
       "25%    330.00000   50.000000   55.000000   50.000000   49.750000   50.000000   \n",
       "50%    450.00000   65.000000   75.000000   70.000000   65.000000   70.000000   \n",
       "75%    515.00000   80.000000  100.000000   90.000000   95.000000   90.000000   \n",
       "max    780.00000  255.000000  190.000000  230.000000  194.000000  230.000000   \n",
       "\n",
       "            Speed  Generation  \n",
       "count  800.000000   800.00000  \n",
       "mean    68.277500     3.32375  \n",
       "std     29.060474     1.66129  \n",
       "min      5.000000     1.00000  \n",
       "25%     45.000000     2.00000  \n",
       "50%     65.000000     3.00000  \n",
       "75%     90.000000     5.00000  \n",
       "max    180.000000     6.00000  "
      ]
     },
     "execution_count": 5,
     "metadata": {},
     "output_type": "execute_result"
    }
   ],
   "source": [
    "df.describe()"
   ]
  },
  {
   "cell_type": "markdown",
   "id": "82b8223b-a4ef-461c-b11a-065b8b93c121",
   "metadata": {},
   "source": [
    "Del describe() podemos observar que:\n",
    "\n",
    "**Media**\n",
    "\n",
    "* Total promedio: 435, es decir los stats en promedio es de 435\n",
    "* HP promedio: 69, la vida promedio es de 69\n",
    "* Attack: 79.\n",
    "* Defense, Sp. Atk, Sp. Def, Speed, rondan los 68 - 74.\n",
    "\n",
    "**Desviación estandar**\n",
    "\n",
    "* Total tiene una desviación estándar **alta**, lo que confirma que hay pokémon muy básicos (stats bajas) y otros muy fuertes (stats altos)\n",
    "* HP, Attack, Defense, Sp. Atk, Sp. Def., Speed tienen una variablidad de más o menos 30, podría sugerir una buena diversidad de estadisticas en general.\n",
    "\n",
    "**Min y Max**\n",
    "\n",
    "* HP: Algunos pokémon tienen HP de 1 o hasta de 255.\n",
    "* Attack: Algunos tienen como minimo 5 de ataque, mientras que otros tienen hasta 190.\n",
    "* Defense: Algunos tienen como minimo 5 de defensa, mientras que otros tienen hasta 230.\n",
    "* Speed: Algunos tienen como minimo 5 de velocidad, mientras que otros tienen hasta 180.\n",
    "\n",
    "**Percentiles**\n",
    "\n",
    "un 50% del dataset tiene menos de 450 de total, pero el máximo es de 780, esto puede sugerir una cola derecha, influenciada por pokémon muy fuertes. Lo mismo ocurre con los stats individualmente.\n"
   ]
  },
  {
   "cell_type": "code",
   "execution_count": 6,
   "id": "3c142436-3b2a-4c23-880c-7c44ea48e60c",
   "metadata": {},
   "outputs": [
    {
     "data": {
      "image/png": "[encoded data removed]",
      "text/plain": [
       "<Figure size 1200x800 with 2 Axes>"
      ]
     },
     "metadata": {},
     "output_type": "display_data"
    }
   ],
   "source": [
    "corr = df.corr()\n",
    "plt.figure(figsize=(12, 8))\n",
    "sns.heatmap(corr, cmap='coolwarm', center=0)\n",
    "plt.title('Matriz de correlación')\n",
    "plt.show()\n"
   ]
  },
  {
   "cell_type": "code",
   "execution_count": 7,
   "id": "b2c1d9d2-08da-4fd3-b5b9-344ea04e9a36",
   "metadata": {},
   "outputs": [
    {
     "name": "stdout",
     "output_type": "stream",
     "text": [
      "Correlación mínima\n"
     ]
    },
    {
     "data": {
      "text/plain": [
       "np.float64(-0.02312106042589799)"
      ]
     },
     "execution_count": 7,
     "metadata": {},
     "output_type": "execute_result"
    }
   ],
   "source": [
    "print(\"Correlación mínima\")\n",
    "corr.min().min()"
   ]
  },
  {
   "cell_type": "markdown",
   "id": "3a35a79f-0d1b-4ec0-b68e-95b98eaf944f",
   "metadata": {},
   "source": [
    "Podemos observar que hay una gran correlación positiva entre varias de las columnas del dataset, lo cual es llamativo, ya que podemos a su vez observar que no hay correlaciones negativas significativas, la correlación más negativa es de -0.023, lo cual es prácticamente nulo, es decir, **no hay relaciones inversas fuertes** en el dataset.\n",
    "\n",
    "Podemos notar que:\n",
    "\n",
    "* Hay una correlación más o menos fuerte entre **Total y Attack, Sp. Atk, Sp. Def.** Es decir, Si los valores de ataque, Sp. Atk (Valor base de ataque especial) y/o Sp. Def (valor base de defensa especial) aumentan, tambien lo hace el Total (Suma total de las estadisticas) , lo cual hace sentido.\n",
    "  De igual forma esto ocurre (aunque en un poco menor medida que las anteriores) con HP, Defense, Speed.\n",
    "* Generation no tiene ninguna correlación ni negativa ni positiva con ninguna de las variables.\n",
    "* Legendary está correlacionada positivamente con Total, y moderadamente con Sp. Atk, lo que sugiere que los legendarios suelen tener Sp. Atk y Stats en general altos.\n",
    "* Defense y Sp. Def Alta correlación, es decir, aquellos que tienen una buena defensa, también tienden a tener una buena defensa especial.\n",
    "* Correlación moderada entre Sp. Atk y Speed, aquellos con un buen ataque especial, tambien suelen ser veloces."
   ]
  },
  {
   "cell_type": "code",
   "execution_count": 8,
   "id": "79df9dc4-3a36-4971-8486-287f163a707a",
   "metadata": {},
   "outputs": [
    {
     "data": {
      "image/png": "[encoded data removed]",
      "text/plain": [
       "<Figure size 640x480 with 1 Axes>"
      ]
     },
     "metadata": {},
     "output_type": "display_data"
    }
   ],
   "source": [
    "sns.countplot(data=df, x='Legendary')\n",
    "plt.title('Distribución de Pokémon legendarios vs no legendarios')\n",
    "plt.show()"
   ]
  },
  {
   "cell_type": "markdown",
   "id": "e8b8f1ea-99fe-4390-ab7d-5da84752c282",
   "metadata": {},
   "source": [
    "Podemos observar que la cantidad de legendarios son una minoria dentro del dataset, este desequilibrio en las clases podría afectar directamente al entrenamiento de la red neuronal, y tener riesgo de tender a predecir siempre \"no lengedario\" y aun así tener 90% de precisión. Será clave observar las métricas de recall, falsos negativos, y no confiar solo en la precisión global."
   ]
  },
  {
   "cell_type": "markdown",
   "id": "4afd5fe8",
   "metadata": {},
   "source": [
    "### Preparación del dataset  \n",
    "En el siguiente bloque realice la preparación del dataset. Esto incluye:\n",
    "- Paso a tensores de PyTorch\n",
    "- División del dataset en train y test\n",
    "- Carga de los datos en DataLoader\n",
    "- Otros pasos que considere necesarios"
   ]
  },
  {
   "cell_type": "code",
   "execution_count": 4,
   "id": "41c2caf5-a3b5-4018-8281-ec55b467f93f",
   "metadata": {},
   "outputs": [],
   "source": [
    "\"\"\" PREPARANDO EL DATASET \"\"\"\n",
    "# Eliminar columnas innecesarias\n",
    "dataset.drop(\"Name\", axis=1, inplace=True)\n",
    "dataset.drop(\"Generation\",axis=1,inplace=True)\n",
    "dataset.drop(\"Total\",axis=1,inplace=True)\n",
    "\n",
    "# Aplicamos codificación de variables categoricas\n",
    "dataset = pd.get_dummies(dataset, columns=[\"Type 1\", \"Type 2\"])"
   ]
  },
  {
   "cell_type": "code",
   "execution_count": 5,
   "id": "87afd530-0471-4d72-ac49-5d63b88ce6fd",
   "metadata": {},
   "outputs": [],
   "source": [
    "# Seleccionamos y escalamos\n",
    "#     (Testeos para concluir)\n",
    "# \"\"\"Para medirlo segun todas las estadisticas\"\"\"\n",
    "#X = dataset.drop(\"Legendary\", axis=1)\n",
    "\n",
    "# \"\"\"Para medirlo segun el total\"\"\"\n",
    "# X = dataset[[\"Total\"]] \n",
    "# -------------------------------------------\n",
    "\n",
    "# Entrenaremos el modelo con las columnas de stats y los tipos, pues son las columnas más importantes a analizar\n",
    "# y así priorizamos las posibles relaciones que puedan darse entre estas variables\n",
    "X = dataset.drop(\"Legendary\", axis=1)\n",
    "y = dataset[\"Legendary\"].to_numpy() # Transformamos a numpy para usar reshape\n",
    "\n",
    "scaler = StandardScaler()\n",
    "X_scaled = scaler.fit_transform(X)\n",
    "\n",
    "\"\"\" Dividimos el dataset \"\"\"\n",
    "X_train, X_test, y_train, y_test = train_test_split(X_scaled, y, test_size=0.3, random_state=35) # 30% para Test, 70% para Train\n",
    "\n",
    "\"\"\" Convertimos a tensores \"\"\"\n",
    "X_train_tensor = torch.tensor(X_train, dtype=torch.float32)\n",
    "y_train_tensor = torch.tensor(y_train.reshape(-1, 1), dtype=torch.float32)\n",
    "\n",
    "X_test_tensor = torch.tensor(X_test, dtype=torch.float32)\n",
    "y_test_tensor = torch.tensor(y_test.reshape(-1, 1), dtype=torch.float32)\n",
    "\n",
    "\"\"\" Carga de los datos e DataLoader\"\"\"\n",
    "train = TensorDataset(X_train_tensor, y_train_tensor) # Juntamos todo el dataset de entrenamiento\n",
    "train_loader = DataLoader(train, batch_size=32, shuffle=True) \n",
    "\n",
    "test  = TensorDataset(X_test_tensor, y_test_tensor) # Juntamos todo el dataset de testeo\n",
    "test_loader  = DataLoader(test, batch_size=32)\n",
    "\n",
    "# OBS: utilizamos batch_size=32 para mantener un equilibrio \n",
    "# (al ser mas o menos pequeños, es más rápido pero a la vez mantiene estabilidad)"
   ]
  },
  {
   "cell_type": "code",
   "execution_count": 5,
   "id": "a3e9b579-68dc-4b21-bd6a-cf411138f5e8",
   "metadata": {},
   "outputs": [
    {
     "name": "stdout",
     "output_type": "stream",
     "text": [
      "Legendarios en entrenamiento: 44.0\n",
      "Legendarios en test: 22.0\n",
      "No legendarios: 516.0\n"
     ]
    }
   ],
   "source": [
    "print(\"Legendarios en entrenamiento:\", y_train_tensor.sum().item())\n",
    "print(\"Legendarios en test:\", y_test_tensor.sum().item())\n",
    "print(\"No legendarios:\", len(y_train_tensor) - y_train_tensor.sum().item())\n"
   ]
  },
  {
   "cell_type": "markdown",
   "id": "37cd1b0f",
   "metadata": {},
   "source": [
    "### Implementación de la red neuronal\n",
    "En el siguiente bloque implemente la arquitectura de red neuronal que predecirá si un Pokémon es legendario o no."
   ]
  },
  {
   "cell_type": "code",
   "execution_count": 6,
   "id": "9aeb0630-32b6-4a60-a11d-bd68330f13dd",
   "metadata": {},
   "outputs": [],
   "source": [
    "# Red neuronal: 42 entradas → 2 capas ocultas → 1 salida\n",
    "input_dim = X_train_tensor.shape[1] # 42\n",
    "hidden_dim = 88\n",
    "output_dim = 1\n",
    "\n",
    "model = nn.Sequential(\n",
    "    nn.Linear(input_dim, hidden_dim), # capa oculta \n",
    "    nn.ReLU(),                        # función de activación\n",
    "    nn.Linear(hidden_dim, 64),        # capa oculta\n",
    "    nn.ReLU(),\n",
    "    nn.Linear(64, output_dim),        # salida con 1 neurona\n",
    "    nn.Sigmoid()                      # función de activación de salida\n",
    ")"
   ]
  },
  {
   "cell_type": "code",
   "execution_count": 7,
   "id": "993e64c8-1154-4526-bf30-7d9c00aa0dde",
   "metadata": {},
   "outputs": [
    {
     "name": "stdout",
     "output_type": "stream",
     "text": [
      "42\n"
     ]
    }
   ],
   "source": [
    "print(X_train_tensor.shape[1])"
   ]
  },
  {
   "cell_type": "markdown",
   "id": "fc89be17",
   "metadata": {},
   "source": [
    "En el siguiente bloque cree una instancia de la red neuronal y defina la función de pérdida y el optimizador. Justifique la elección de la función de pérdida y el optimizador."
   ]
  },
  {
   "cell_type": "code",
   "execution_count": 8,
   "id": "7b6c0e23",
   "metadata": {},
   "outputs": [],
   "source": [
    "\"\"\" Función de perdida \"\"\"\n",
    "criterion = nn.BCELoss()  # (Binary Cross-Entropy Loss)\n",
    "# Justificación: Usada para clasificación binaria, el cual es este caso (legendario - no legendario)\n",
    "\n",
    "\"\"\" Optimizador \"\"\"\n",
    "optimizer = optim.SGD(model.parameters(), lr=0.01)\n",
    "# Justificación: Pensamos que podría ser una buena opción para el dataset\n",
    "# este actualiza los parametros dando pequeños pasos en la dirección que reduce el error\n",
    "# Se decidió utilizar un learning rate (lr) pequeño para dar pasos mas estables (aunque más lentos)"
   ]
  },
  {
   "cell_type": "markdown",
   "id": "c17f9db7",
   "metadata": {},
   "source": [
    "En el siguiente bloque entrene la red neuronal."
   ]
  },
  {
   "cell_type": "code",
   "execution_count": 9,
   "id": "2678eeeb",
   "metadata": {},
   "outputs": [
    {
     "name": "stdout",
     "output_type": "stream",
     "text": [
      "Época 0, pérdida: 0.6177\n",
      "Época 10, pérdida: 0.4086\n",
      "Época 20, pérdida: 0.2440\n",
      "Época 30, pérdida: 0.1907\n",
      "Época 40, pérdida: 0.1765\n",
      "Época 50, pérdida: 0.1119\n",
      "Época 60, pérdida: 0.1475\n",
      "Época 70, pérdida: 0.0996\n",
      "Época 80, pérdida: 0.1939\n",
      "Época 90, pérdida: 0.0736\n",
      "Época 100, pérdida: 0.1710\n",
      "Época 110, pérdida: 0.0470\n",
      "Época 120, pérdida: 0.0171\n",
      "Época 130, pérdida: 0.0072\n",
      "Época 140, pérdida: 0.0321\n"
     ]
    }
   ],
   "source": [
    "num_epochs = 150\n",
    "\n",
    "for epoch in range(num_epochs):\n",
    "    for X_batch, y_batch in train_loader:\n",
    "        optimizer.zero_grad()\n",
    "        y_pred = model(X_batch)\n",
    "        loss = criterion(y_pred, y_batch)\n",
    "        loss.backward()\n",
    "        optimizer.step()\n",
    "\n",
    "    if epoch % 10 == 0:\n",
    "        print(f\"Época {epoch}, pérdida: {loss.item():.4f}\")"
   ]
  },
  {
   "cell_type": "markdown",
   "id": "3eb82e28",
   "metadata": {},
   "source": [
    "En el siguiente bloque evalue el rendimiento de la red (Métricas de evaluación, matriz de confusión, etc.) y responda las siguientes preguntas:\n",
    "- **¿Cuántas épocas fueron necesarias para converger?**\n",
    "\n",
    "R = El modelo parece converger al rededor de las 150 epocas, pues con 100 o incluso 200 epocas, el rendimiento baja, es decir, la precisión y recall bajan.\n",
    "\n",
    "- **¿Cuál fue la precisión final?**\n",
    "\n",
    "R = **La precisión final (global) fue de 0.94**, mientras que la **precisión (métrica) fue de 0.7**. Anteriormente se testeó con más columnas, pero que podrían ser inutiles, como por ejemplo la generación, en la que se obtuvo la misma precisión (aunque con mayor cantidad de epocas: 350), esto podria indicar que independiente de las columnas, el mayor \"problema\" de no poder obtener una mejor precisión que 94 se podría estar dando por la gran diferencia de la cantidad en cada clase (legendario - no legendario). \n",
    "\n",
    "- **¿El entrenamiento de su red neuronal fue exitoso?**\n",
    "\n",
    "R = El entrenamiento de la red neuronal fue exitoso, pues logró un buen rendimiento para aprender patrones relevantes en el dataset, aun con las clases desbalanceadas, pues se logró una precisión global de 0.94, una precisión específica del 0.71 y un recall de 0.55.\n",
    "\n",
    "- **¿Cuales son los ejemplos que más confunde a la red neuronal? Responda el porqué de acuerdo a su conocimiento del dataset.**\n",
    "\n",
    "R = En el dataset se presentan varios casos que podrían confundir a la red neuronal, por ejemplo Pokémon como \"Slaking\", \"Cresselia\", \"Uxie\", \"Mesprit\" y \"Azelf\", los cuales tienen stats caracteristicos de un legendario, pero que **no lo son**, estos casos \"atipicos\" podrían estar influyendo de mala manera en el modelo, causando posibles falsos positivos o negativos en el entrenamiento, a su vez, existen Pokémon como \"Mega rayquaza\" que si bien es legendario, tiene stats muy altas (780), mientras que otros legendarios tienen stats de entre 600-720, esto podría hacer que el modelo aprenda un patrón \"exagerado\", es decir, que detecte stats ultra altos como legendarios y deje fuera a legendarios de stats más \"discretos\" o que considere a los de stats muy altos (como Slaking) como legendarios falsamente.\n"
   ]
  },
  {
   "cell_type": "code",
   "execution_count": 15,
   "id": "94d85944-edf4-4c81-96b5-d3b0b620b93c",
   "metadata": {},
   "outputs": [
    {
     "name": "stdout",
     "output_type": "stream",
     "text": [
      "\n",
      "Precisión global en test: 0.9375\n"
     ]
    }
   ],
   "source": [
    "# probamos con test\n",
    "with torch.no_grad(): # Desactivamos el cálculo de la gradiente\n",
    "    y_test_pred = model(X_test_tensor) # Hace una predicción sobre los datos de prueba\n",
    "    y_test_pred_labels = (y_test_pred > 0.4).float() # Convierte la probabilidad en una clasificación binaria\n",
    "    acc = (y_test_pred_labels == y_test_tensor).float().mean() # Compara las predicciones con las etiquetas reales\n",
    "    print(f\"\\nPrecisión global en test: {acc.item():.4f}\")\n"
   ]
  },
  {
   "cell_type": "code",
   "execution_count": 11,
   "id": "3e03d1c5",
   "metadata": {},
   "outputs": [
    {
     "name": "stdout",
     "output_type": "stream",
     "text": [
      "\n",
      "Matriz de confusión:\n",
      "[[213   5]\n",
      " [ 10  12]]\n",
      "Precisión: 0.7059\n",
      "Recall: 0.5455\n"
     ]
    }
   ],
   "source": [
    "from sklearn.metrics import confusion_matrix, precision_score, recall_score\n",
    "\n",
    "# Convertimos tensores a NumPy\n",
    "y_true = y_test_tensor.numpy()\n",
    "y_pred = y_test_pred_labels.numpy()\n",
    "\n",
    "# Matriz de confusión\n",
    "cm = confusion_matrix(y_true, y_pred)\n",
    "print(\"\\nMatriz de confusión:\")\n",
    "print(cm)\n",
    "\n",
    "# Precisión y recall\n",
    "precision = precision_score(y_true, y_pred)\n",
    "recall = recall_score(y_true, y_pred)\n",
    "print(f\"Precisión: {precision:.4f}\")\n",
    "print(f\"Recall: {recall:.4f}\")"
   ]
  },
  {
   "cell_type": "code",
   "execution_count": 12,
   "id": "2adcb3c3-ca0f-4f6c-9b43-a4e3fd90e1f3",
   "metadata": {},
   "outputs": [
    {
     "name": "stdout",
     "output_type": "stream",
     "text": [
      "Cantidad de legendarios reales: 22.0\n",
      "Cantidad de legendarios predichos correctamente: 12\n"
     ]
    }
   ],
   "source": [
    "print(\"Cantidad de legendarios reales:\", y_test_tensor.sum().item())\n",
    "correctos = ((y_test_pred_labels == 1) & (y_test_tensor == 1)).sum().item()\n",
    "print(\"Cantidad de legendarios predichos correctamente:\", correctos)\n"
   ]
  },
  {
   "cell_type": "markdown",
   "id": "1c43cf5a",
   "metadata": {},
   "source": [
    "### Conclusiones\n",
    "En el siguiente bloque escriba sus conclusiones sobre el trabajo realizado. Además responda las siguientes preguntas:\n",
    "- Sobre la matriz de confusión, si usted fuese un entrenador Pokémon, ¿Elegiría a Pokémon ubicados en FP o FN para su equipo? ¿Por qué?\n",
    "- Entrene un modelo de aprendizaje automático diferente al de la red neuronal (eg. RF) y compare los resultados. ¿Cuál fue el mejor modelo? ¿Por qué?"
   ]
  },
  {
   "cell_type": "markdown",
   "id": "acb575b6",
   "metadata": {},
   "source": [
    "### Conclusion\n",
    "1. Para el punto uno principalmente se podria priorizar los valores que existen dentro de los falsos negativos, pero tambien podriamos considerar el uso de los falsos positivos, en ambos casos se consideran dos cosas, los falsos negativos serian los pokemones legendarios que no identifico bien, cosa que podria significar que no entra en el criterio para identificarlo normalmente, pero esto podria no considerar a buenos pokemones legendarios, aunque es mucho mas peligroso ya que significaria una probabilidad de un pokemon legendario malo, asi que siguiendo esto mismo, el falso positivo podria ser una mejor opcion, ya que seria un pokemon no legendario que cumple los requisitos para considerarse un pokemon legendario, asi que en terminos de riesgo, seria mejor escoger a los falsos positivos."
   ]
  },
  {
   "cell_type": "code",
   "execution_count": 19,
   "id": "c5191722-a6f1-4a4b-89c8-174e1a6122a4",
   "metadata": {},
   "outputs": [
    {
     "data": {
      "text/plain": [
       "' resultados de la red neuronal entrenada con la columna total '"
      ]
     },
     "execution_count": 19,
     "metadata": {},
     "output_type": "execute_result"
    }
   ],
   "source": [
    "\"\"\"Para medirlo segun el total\"\"\"\n",
    "dataset = pd.read_csv(\"dataset.csv\")\n",
    "dataset.drop(\"#\",axis=1,inplace=True)\n",
    "\n",
    "X = dataset[[\"Total\"]]\n",
    "\n",
    "y = dataset[\"Legendary\"].to_numpy() # Transformamos a numpy para usar reshape\n",
    "\n",
    "scaler = StandardScaler()\n",
    "X_scaled = scaler.fit_transform(X)\n",
    "\n",
    "\"\"\" Dividimos el dataset \"\"\"\n",
    "X_train, X_test, y_train, y_test = train_test_split(X_scaled, y, test_size=0.3, random_state=35) # 30% para Test, 70% para Train\n",
    "\n",
    "\"\"\" resultados de la red neuronal entrenada con la columna total \"\"\"\n",
    "# 100 epocas:\n",
    "\n",
    "# Precisión global en test: 0.9292\n",
    "\n",
    "# Matriz de confusión:\n",
    "#  [[213   5]\n",
    "#  [ 12  10]]\n",
    "\n",
    "# Precisión: 0.6667\n",
    "# Recall: 0.4545\n",
    "\n",
    "# Cantidad de legendarios reales: 22.0\n",
    "# Cantidad de legendarios predichos correctamente: 12"
   ]
  },
  {
   "cell_type": "code",
   "execution_count": 20,
   "id": "9ee76cbc-81cf-4d1d-a5fd-ad1014353568",
   "metadata": {},
   "outputs": [
    {
     "name": "stdout",
     "output_type": "stream",
     "text": [
      "Precisión RF: 0.9542\n",
      "Matriz de confusión RF:\n",
      "[[207  11]\n",
      " [  0  22]]\n",
      "Precision: 0.6667\n",
      "Recall: 1.0000\n"
     ]
    }
   ],
   "source": [
    "rf = RandomForestClassifier(n_estimators=100, random_state=42)\n",
    "rf.fit(X_train, y_train.ravel())\n",
    "\n",
    "y_pred_rf = rf.predict(X_test)\n",
    "\n",
    "\n",
    "acc_rf = accuracy_score(y_test, y_pred_rf)\n",
    "cm_rf = confusion_matrix(y_test, y_pred_rf)\n",
    "precision_rf = precision_score(y_test, y_pred_rf)\n",
    "recall_rf = recall_score(y_test, y_pred_rf)\n",
    "\n",
    "print(f\"Precisión RF: {acc_rf:.4f}\")\n",
    "print(\"Matriz de confusión RF:\")\n",
    "print(cm_rf)\n",
    "print(f\"Precision: {precision_rf:.4f}\")\n",
    "print(f\"Recall: {recall_rf:.4f}\")"
   ]
  },
  {
   "cell_type": "markdown",
   "id": "2b644017",
   "metadata": {},
   "source": [
    "Comparando ambos modelos, se observa que tanto la red neuronal como RF logran buenos resultados al basarse en una gran cantidad de ejemplos para su aprendizaje, aunque lo hacen de manera distinta, pues RF logra adaptarse mejor que la red neuronal cuando la cantidad de variables es limitada. Luego si luego comparamos las métricas, tienen una precisión identica, sin embargo RF presenta un recall de 100%, teniendo más ventaja, detectando la mayoría de legendarios y todos los no legendarios correctamente (A diferencia de la red neuronal que aun comete algunos errores) por lo que RF ofrece una mayor robustez sin requerir una arquitectura compleja."
   ]
  },
  {
   "cell_type": "markdown",
   "id": "e5262747",
   "metadata": {},
   "source": [
    "## Problema 2\n",
    "\n",
    "### Representaciones internas a partir de datos sin etiquetar  \n",
    "En esta sección se trabajará con un enfoque diferente al utilizado previamente. Ahora no se utilizarán etiquetas para guiar el aprendizaje del modelo. En su lugar, el objetivo será encontrar una forma eficiente de representar cada instancia del dataset en un espacio de menor dimensión.\n",
    "\n",
    "Diseñe un modelo que reduzca la dimensionalidad de los datos, y entrene dicho modelo utilizando el conjunto completo. Luego, visualice la representación de los datos en dos dimensiones. Para el resto siga un esquema similar al del problema anterior.\n",
    "\n",
    "Responda las siguientes preguntas:\n",
    "- ¿Se observan agrupaciones o patrones en la representación obtenida?\n",
    "- ¿Es posible distinguir algún tipo de separación visual al colorear los puntos según si un Pokémon es legendario o no?\n",
    "- ¿Qué interpretación podrías darle a la distribución resultante?\n",
    "- ¿Sus resultados tienen alguna relación con el problema anterior?"
   ]
  },
  {
   "cell_type": "code",
   "execution_count": 6,
   "id": "081e2433",
   "metadata": {},
   "outputs": [
    {
     "name": "stdout",
     "output_type": "stream",
     "text": [
      "Epoch 10/50, Loss: 0.9434\n",
      "Epoch 20/50, Loss: 0.8968\n",
      "Epoch 30/50, Loss: 0.8731\n",
      "Epoch 40/50, Loss: 0.8583\n",
      "Epoch 50/50, Loss: 0.8491\n"
     ]
    },
    {
     "data": {
      "image/png": "[encoded data removed]",
      "text/plain": [
       "<Figure size 800x600 with 2 Axes>"
      ]
     },
     "metadata": {},
     "output_type": "display_data"
    }
   ],
   "source": [
    "from torchvision import datasets, transforms\n",
    "from torch.utils.data import TensorDataset, DataLoader\n",
    "\n",
    "X = dataset.drop(\"Legendary\", axis=1)\n",
    "y = dataset[\"Legendary\"].to_numpy()\n",
    "\n",
    "scaler = StandardScaler()\n",
    "X_scaled = scaler.fit_transform(X)\n",
    "\n",
    "X_tensor = torch.tensor(X_scaled, dtype=torch.float32)\n",
    "dataset_torch = TensorDataset(X_tensor)\n",
    "loader = DataLoader(dataset_torch, batch_size=32, shuffle=True)\n",
    "\n",
    "input_dim = X_tensor.shape[1]\n",
    "\n",
    "class Autoencoder2D(nn.Module):\n",
    "    def __init__(self, input_dim):\n",
    "        super().__init__()\n",
    "        self.encoder = nn.Sequential(\n",
    "            nn.Linear(input_dim, 64),\n",
    "            nn.ReLU(),\n",
    "            nn.Linear(64, 2)\n",
    "        )\n",
    "        self.decoder = nn.Sequential(\n",
    "            nn.Linear(2, 64),\n",
    "            nn.ReLU(),\n",
    "            nn.Linear(64, input_dim),\n",
    "            nn.Sigmoid()\n",
    "        )\n",
    "\n",
    "    def forward(self, x):\n",
    "        z = self.encoder(x)\n",
    "        x_recon = self.decoder(z)\n",
    "        return x_recon\n",
    "\n",
    "    def encode(self, x):\n",
    "        return self.encoder(x)\n",
    "\n",
    "model = Autoencoder2D(input_dim)\n",
    "criterion = nn.MSELoss()\n",
    "optimizer = optim.Adam(model.parameters(), lr=0.001)\n",
    "\n",
    "epochs = 50\n",
    "for epoch in range(epochs):\n",
    "    model.train()\n",
    "    total_loss = 0\n",
    "    for (x_batch,) in loader:\n",
    "        optimizer.zero_grad()\n",
    "        x_hat = model(x_batch)\n",
    "        loss = criterion(x_hat, x_batch)\n",
    "        loss.backward()\n",
    "        optimizer.step()\n",
    "        total_loss += loss.item()\n",
    "    if (epoch + 1) % 10 == 0:\n",
    "        print(f\"Epoch {epoch+1}/{epochs}, Loss: {total_loss/len(loader):.4f}\")\n",
    "\n",
    "model.eval()\n",
    "with torch.no_grad():\n",
    "    latent_2d = model.encode(X_tensor).numpy()\n",
    "\n",
    "plt.figure(figsize=(8,6))\n",
    "scatter = plt.scatter(latent_2d[:,0], latent_2d[:,1], c=y, cmap='coolwarm', alpha=0.7)\n",
    "plt.xlabel(\"Latente 1\")\n",
    "plt.ylabel(\"Latente 2\")\n",
    "plt.title(\"Representación 2D de Pokémon con Autoencoder\")\n",
    "plt.colorbar(scatter, label=\"Legendario (0=No, 1=Sí)\")\n",
    "plt.show()"
   ]
  }
 ],
 "metadata": {
  "kernelspec": {
   "display_name": "Python 3",
   "language": "python",
   "name": "python3"
  },
  "language_info": {
   "codemirror_mode": {
    "name": "ipython",
    "version": 3
   },
   "file_extension": ".py",
   "mimetype": "text/x-python",
   "name": "python",
   "nbconvert_exporter": "python",
   "pygments_lexer": "ipython3",
   "version": "3.11.9"
  }
 },
 "nbformat": 4,
 "nbformat_minor": 5
}
